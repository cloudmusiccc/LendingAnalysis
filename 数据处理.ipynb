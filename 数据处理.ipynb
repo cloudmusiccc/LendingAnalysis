{
 "cells": [
  {
   "cell_type": "markdown",
   "metadata": {},
   "source": [
    "# 对Lending Club进行数据分析"
   ]
  },
  {
   "cell_type": "code",
   "execution_count": 1,
   "metadata": {},
   "outputs": [],
   "source": [
    "import numpy as np\n",
    "import scipy as sp\n",
    "import pandas as pd\n",
    "import matplotlib as mpl\n",
    "import matplotlib.pyplot as plt\n",
    "import seaborn as sns\n",
    "\n"
   ]
  },
  {
   "cell_type": "code",
   "execution_count": 2,
   "metadata": {},
   "outputs": [],
   "source": [
    "pd.set_option('display.max_columns', None)  #显示所有列\n",
    "plt.rcParams['font.sans-serif'] = ['SimHei'] # 指定默认字体为黑体\n",
    "plt.rcParams['axes.unicode_minus'] = False # 解决保存图像是负号'-'显示为方块的问题"
   ]
  },
  {
   "cell_type": "markdown",
   "metadata": {},
   "source": [
    "### 将2018Q1-Q4的数据集导入"
   ]
  },
  {
   "cell_type": "code",
   "execution_count": 3,
   "metadata": {},
   "outputs": [],
   "source": [
    "data1=pd.read_csv('2018Q1.csv',encoding='gbk')  #以gbk方式编码，utf-8会报错\n",
    "data2=pd.read_csv('2018Q2.csv',encoding='gbk')\n",
    "data3=pd.read_csv('2018Q3.csv',encoding='gbk')\n",
    "data4=pd.read_csv('2018Q4.csv',encoding='gbk')"
   ]
  },
  {
   "cell_type": "code",
   "execution_count": 4,
   "metadata": {},
   "outputs": [
    {
     "data": {
      "text/plain": [
       "Current               57425\n",
       "Fully Paid            36325\n",
       "Charged Off           11139\n",
       "Late (31-120 days)     1401\n",
       "In Grace Period        1097\n",
       "Late (16-30 days)       308\n",
       "Default                  64\n",
       "Name: loan_status, dtype: int64"
      ]
     },
     "execution_count": 4,
     "metadata": {},
     "output_type": "execute_result"
    }
   ],
   "source": [
    "data1['loan_status'].value_counts()"
   ]
  },
  {
   "cell_type": "code",
   "execution_count": 5,
   "metadata": {},
   "outputs": [
    {
     "data": {
      "text/plain": [
       "Current               77755\n",
       "Fully Paid            36469\n",
       "Charged Off           12429\n",
       "Late (31-120 days)     2057\n",
       "In Grace Period        1387\n",
       "Late (16-30 days)       442\n",
       "Default                  94\n",
       "Name: loan_status, dtype: int64"
      ]
     },
     "execution_count": 5,
     "metadata": {},
     "output_type": "execute_result"
    }
   ],
   "source": [
    "data2['loan_status'].value_counts()"
   ]
  },
  {
   "cell_type": "code",
   "execution_count": 6,
   "metadata": {},
   "outputs": [
    {
     "data": {
      "text/plain": [
       "Current               84632\n",
       "Fully Paid            30667\n",
       "Charged Off            8836\n",
       "Late (31-120 days)     2009\n",
       "In Grace Period        1406\n",
       "Late (16-30 days)       420\n",
       "Default                  89\n",
       "Name: loan_status, dtype: int64"
      ]
     },
     "execution_count": 6,
     "metadata": {},
     "output_type": "execute_result"
    }
   ],
   "source": [
    "data3['loan_status'].value_counts()"
   ]
  },
  {
   "cell_type": "code",
   "execution_count": 7,
   "metadata": {},
   "outputs": [
    {
     "data": {
      "text/plain": [
       "Current               92485\n",
       "Fully Paid            24821\n",
       "Charged Off            6766\n",
       "Late (31-120 days)     2210\n",
       "In Grace Period        1405\n",
       "Late (16-30 days)       486\n",
       "Default                 111\n",
       "Name: loan_status, dtype: int64"
      ]
     },
     "execution_count": 7,
     "metadata": {},
     "output_type": "execute_result"
    }
   ],
   "source": [
    "data4['loan_status'].value_counts()"
   ]
  },
  {
   "cell_type": "code",
   "execution_count": 8,
   "metadata": {},
   "outputs": [],
   "source": [
    "data=pd.concat([data1,data2,data3,data4])  #四个数据集表合并\n",
    "data = data.loc[data['loan_status'].isin(['Fully Paid', 'Charged Off'])]   #只保留 这两种状态的行，完全付清和欠债\n",
    "data=data.reset_index(drop=True)    #重置索引"
   ]
  },
  {
   "cell_type": "code",
   "execution_count": 9,
   "metadata": {},
   "outputs": [
    {
     "data": {
      "text/plain": [
       "next_pymnt_d                                  1.000000\n",
       "desc                                          1.000000\n",
       "member_id                                     1.000000\n",
       "orig_projected_additional_accrued_interest    0.998376\n",
       "hardship_type                                 0.996274\n",
       "hardship_reason                               0.996274\n",
       "hardship_last_payment_amount                  0.996274\n",
       "hardship_payoff_balance_amount                0.996274\n",
       "hardship_status                               0.996274\n",
       "hardship_loan_status                          0.996274\n",
       "dtype: float64"
      ]
     },
     "execution_count": 9,
     "metadata": {},
     "output_type": "execute_result"
    }
   ],
   "source": [
    "missing_fractions = data.isnull().mean().sort_values(ascending=False)   #得到缺失值的比例\n",
    "missing_fractions.head(10)"
   ]
  },
  {
   "cell_type": "code",
   "execution_count": 10,
   "metadata": {},
   "outputs": [
    {
     "data": {
      "text/plain": [
       "Text(0,0.5,'特征个数')"
      ]
     },
     "execution_count": 10,
     "metadata": {},
     "output_type": "execute_result"
    },
    {
     "data": {
      "image/png": "[encoded data removed]",
      "text/plain": [
       "<Figure size 540x270 with 1 Axes>"
      ]
     },
     "metadata": {
      "needs_background": "light"
     },
     "output_type": "display_data"
    }
   ],
   "source": [
    "plt.figure(figsize=(6,3), dpi=90)\n",
    "missing_fractions.plot.hist(bins=20)\n",
    "plt.title('数据缺失值分布')\n",
    "plt.xlabel('数据缺失比例')\n",
    "plt.ylabel('特征个数')"
   ]
  },
  {
   "cell_type": "markdown",
   "metadata": {},
   "source": [
    "### 将缺失值大于30%的数据删除"
   ]
  },
  {
   "cell_type": "code",
   "execution_count": 11,
   "metadata": {},
   "outputs": [
    {
     "name": "stdout",
     "output_type": "stream",
     "text": [
      "['annual_inc_joint', 'debt_settlement_flag_date', 'deferral_term', 'desc', 'dti_joint', 'hardship_amount', 'hardship_dpd', 'hardship_end_date', 'hardship_last_payment_amount', 'hardship_length', 'hardship_loan_status', 'hardship_payoff_balance_amount', 'hardship_reason', 'hardship_start_date', 'hardship_status', 'hardship_type', 'member_id', 'mths_since_last_delinq', 'mths_since_last_major_derog', 'mths_since_last_record', 'mths_since_recent_bc_dlq', 'mths_since_recent_revol_delinq', 'next_pymnt_d', 'orig_projected_additional_accrued_interest', 'payment_plan_start_date', 'revol_bal_joint', 'sec_app_chargeoff_within_12_mths', 'sec_app_collections_12_mths_ex_med', 'sec_app_earliest_cr_line', 'sec_app_fico_range_high', 'sec_app_fico_range_low', 'sec_app_inq_last_6mths', 'sec_app_mort_acc', 'sec_app_mths_since_last_major_derog', 'sec_app_num_rev_accts', 'sec_app_open_acc', 'sec_app_open_act_il', 'sec_app_revol_util', 'settlement_amount', 'settlement_date', 'settlement_percentage', 'settlement_status', 'settlement_term', 'verification_status_joint']\n"
     ]
    }
   ],
   "source": [
    "ratio=0.3\n",
    "drop_list=[];\n",
    "drop_list = sorted(list(missing_fractions[missing_fractions > ratio].index))\n",
    "print(drop_list)"
   ]
  },
  {
   "cell_type": "code",
   "execution_count": 12,
   "metadata": {},
   "outputs": [
    {
     "data": {
      "text/plain": [
       "44"
      ]
     },
     "execution_count": 12,
     "metadata": {},
     "output_type": "execute_result"
    }
   ],
   "source": [
    "len(drop_list)   #ratio=0.4 len=43; ratio=0.3 len=44 ;ratio=0.2 len=44;ratio=0.1 len=47 故可以选用0.3或者0.2比较合适"
   ]
  },
  {
   "cell_type": "code",
   "execution_count": 13,
   "metadata": {},
   "outputs": [],
   "source": [
    "data.drop(labels=drop_list, axis=1, inplace=True)"
   ]
  },
  {
   "cell_type": "code",
   "execution_count": 14,
   "metadata": {},
   "outputs": [
    {
     "data": {
      "text/plain": [
       "(167452, 106)"
      ]
     },
     "execution_count": 14,
     "metadata": {},
     "output_type": "execute_result"
    }
   ],
   "source": [
    "data.shape"
   ]
  },
  {
   "cell_type": "code",
   "execution_count": 15,
   "metadata": {
    "scrolled": false
   },
   "outputs": [
    {
     "name": "stdout",
     "output_type": "stream",
     "text": [
      "['acc_now_delinq', 'acc_open_past_24mths', 'addr_state', 'all_util', 'annual_inc', 'annual_inc_joint', 'application_type', 'avg_cur_bal', 'bc_open_to_buy', 'bc_util', 'chargeoff_within_12_mths', 'collection_recovery_fee', 'collections_12_mths_ex_med', 'debt_settlement_flag', 'debt_settlement_flag_date', 'deferral_term', 'delinq_2yrs', 'delinq_amnt', 'desc', 'dti', 'dti_joint', 'earliest_cr_line', 'emp_length', 'emp_title', 'fico_range_high', 'fico_range_low', 'funded_amnt', 'funded_amnt_inv', 'grade', 'hardship_amount', 'hardship_dpd', 'hardship_end_date', 'hardship_flag', 'hardship_last_payment_amount', 'hardship_length', 'hardship_loan_status', 'hardship_payoff_balance_amount', 'hardship_reason', 'hardship_start_date', 'hardship_status', 'hardship_type', 'home_ownership', 'id', 'il_util', 'initial_list_status', 'inq_fi', 'inq_last_12m', 'inq_last_6mths', 'installment', 'int_rate', 'issue_d', 'last_credit_pull_d', 'last_fico_range_high', 'last_fico_range_low', 'last_pymnt_amnt', 'last_pymnt_d', 'loan_amnt', 'loan_status', 'max_bal_bc', 'member_id', 'mo_sin_old_il_acct', 'mo_sin_old_rev_tl_op', 'mo_sin_rcnt_rev_tl_op', 'mo_sin_rcnt_tl', 'mort_acc', 'mths_since_last_delinq', 'mths_since_last_major_derog', 'mths_since_last_record', 'mths_since_rcnt_il', 'mths_since_recent_bc', 'mths_since_recent_bc_dlq', 'mths_since_recent_inq', 'mths_since_recent_revol_delinq', 'next_pymnt_d', 'num_accts_ever_120_pd', 'num_actv_bc_tl', 'num_actv_rev_tl', 'num_bc_sats', 'num_bc_tl', 'num_il_tl', 'num_op_rev_tl', 'num_rev_accts', 'num_rev_tl_bal_gt_0', 'num_sats', 'num_tl_120dpd_2m', 'num_tl_30dpd', 'num_tl_90g_dpd_24m', 'num_tl_op_past_12m', 'open_acc', 'open_acc_6m', 'open_act_il', 'open_il_12m', 'open_il_24m', 'open_rv_12m', 'open_rv_24m', 'orig_projected_additional_accrued_interest', 'out_prncp', 'out_prncp_inv', 'payment_plan_start_date', 'pct_tl_nvr_dlq', 'percent_bc_gt_75', 'policy_code', 'pub_rec', 'pub_rec_bankruptcies', 'purpose', 'pymnt_plan', 'recoveries', 'revol_bal', 'revol_bal_joint', 'revol_util', 'sec_app_chargeoff_within_12_mths', 'sec_app_collections_12_mths_ex_med', 'sec_app_earliest_cr_line', 'sec_app_fico_range_high', 'sec_app_fico_range_low', 'sec_app_inq_last_6mths', 'sec_app_mort_acc', 'sec_app_mths_since_last_major_derog', 'sec_app_num_rev_accts', 'sec_app_open_acc', 'sec_app_open_act_il', 'sec_app_revol_util', 'settlement_amount', 'settlement_date', 'settlement_percentage', 'settlement_status', 'settlement_term', 'sub_grade', 'tax_liens', 'term', 'title', 'tot_coll_amt', 'tot_cur_bal', 'tot_hi_cred_lim', 'total_acc', 'total_bal_ex_mort', 'total_bal_il', 'total_bc_limit', 'total_cu_tl', 'total_il_high_credit_limit', 'total_pymnt', 'total_pymnt_inv', 'total_rec_int', 'total_rec_late_fee', 'total_rec_prncp', 'total_rev_hi_lim', 'url', 'verification_status', 'verification_status_joint', 'zip_code']\n"
     ]
    }
   ],
   "source": [
    "print(sorted(data1.columns))   #所有的特征"
   ]
  },
  {
   "cell_type": "code",
   "execution_count": 16,
   "metadata": {},
   "outputs": [
    {
     "name": "stdout",
     "output_type": "stream",
     "text": [
      "['acc_now_delinq', 'acc_open_past_24mths', 'addr_state', 'all_util', 'annual_inc', 'application_type', 'avg_cur_bal', 'bc_open_to_buy', 'bc_util', 'chargeoff_within_12_mths', 'collection_recovery_fee', 'collections_12_mths_ex_med', 'debt_settlement_flag', 'delinq_2yrs', 'delinq_amnt', 'dti', 'earliest_cr_line', 'emp_length', 'emp_title', 'fico_range_high', 'fico_range_low', 'funded_amnt', 'funded_amnt_inv', 'grade', 'hardship_flag', 'home_ownership', 'id', 'il_util', 'initial_list_status', 'inq_fi', 'inq_last_12m', 'inq_last_6mths', 'installment', 'int_rate', 'issue_d', 'last_credit_pull_d', 'last_fico_range_high', 'last_fico_range_low', 'last_pymnt_amnt', 'last_pymnt_d', 'loan_amnt', 'loan_status', 'max_bal_bc', 'mo_sin_old_il_acct', 'mo_sin_old_rev_tl_op', 'mo_sin_rcnt_rev_tl_op', 'mo_sin_rcnt_tl', 'mort_acc', 'mths_since_rcnt_il', 'mths_since_recent_bc', 'mths_since_recent_inq', 'num_accts_ever_120_pd', 'num_actv_bc_tl', 'num_actv_rev_tl', 'num_bc_sats', 'num_bc_tl', 'num_il_tl', 'num_op_rev_tl', 'num_rev_accts', 'num_rev_tl_bal_gt_0', 'num_sats', 'num_tl_120dpd_2m', 'num_tl_30dpd', 'num_tl_90g_dpd_24m', 'num_tl_op_past_12m', 'open_acc', 'open_acc_6m', 'open_act_il', 'open_il_12m', 'open_il_24m', 'open_rv_12m', 'open_rv_24m', 'out_prncp', 'out_prncp_inv', 'pct_tl_nvr_dlq', 'percent_bc_gt_75', 'policy_code', 'pub_rec', 'pub_rec_bankruptcies', 'purpose', 'pymnt_plan', 'recoveries', 'revol_bal', 'revol_util', 'sub_grade', 'tax_liens', 'term', 'title', 'tot_coll_amt', 'tot_cur_bal', 'tot_hi_cred_lim', 'total_acc', 'total_bal_ex_mort', 'total_bal_il', 'total_bc_limit', 'total_cu_tl', 'total_il_high_credit_limit', 'total_pymnt', 'total_pymnt_inv', 'total_rec_int', 'total_rec_late_fee', 'total_rec_prncp', 'total_rev_hi_lim', 'url', 'verification_status', 'zip_code']\n"
     ]
    }
   ],
   "source": [
    "print(sorted(data.columns))   #删除了缺失值过多的特征，剩余的特征"
   ]
  },
  {
   "cell_type": "code",
   "execution_count": 61,
   "metadata": {},
   "outputs": [],
   "source": [
    "keep_list=['id','loan_status','acc_now_delinq','addr_state','annual_inc','avg_cur_bal',\n",
    "                    'bc_util','chargeoff_within_12_mths','delinq_2yrs','delinq_amnt','dti',\n",
    "                     'emp_length','emp_title','fico_range_high','fico_range_low','sub_grade','home_ownership',\n",
    "                     'il_util','int_rate','last_fico_range_high','last_fico_range_low','num_accts_ever_120_pd',\n",
    "                     'num_actv_rev_tl','num_sats','num_tl_120dpd_2m','num_tl_30dpd','num_tl_90g_dpd_24m',\n",
    "                     'open_acc','hardship_flag','open_act_il'];        #进一步进行筛选\n",
    "\n",
    "df=data[keep_list]"
   ]
  },
  {
   "cell_type": "code",
   "execution_count": 62,
   "metadata": {},
   "outputs": [
    {
     "data": {
      "text/plain": [
       "(167452, 30)"
      ]
     },
     "execution_count": 62,
     "metadata": {},
     "output_type": "execute_result"
    }
   ],
   "source": [
    "df.shape"
   ]
  },
  {
   "cell_type": "code",
   "execution_count": 63,
   "metadata": {
    "scrolled": false
   },
   "outputs": [
    {
     "data": {
      "text/html": [
       "<div>\n",
       "<style scoped>\n",
       "    .dataframe tbody tr th:only-of-type {\n",
       "        vertical-align: middle;\n",
       "    }\n",
       "\n",
       "    .dataframe tbody tr th {\n",
       "        vertical-align: top;\n",
       "    }\n",
       "\n",
       "    .dataframe thead th {\n",
       "        text-align: right;\n",
       "    }\n",
       "</style>\n",
       "<table border=\"1\" class=\"dataframe\">\n",
       "  <thead>\n",
       "    <tr style=\"text-align: right;\">\n",
       "      <th></th>\n",
       "      <th>id</th>\n",
       "      <th>loan_status</th>\n",
       "      <th>acc_now_delinq</th>\n",
       "      <th>addr_state</th>\n",
       "      <th>annual_inc</th>\n",
       "      <th>avg_cur_bal</th>\n",
       "      <th>bc_util</th>\n",
       "      <th>chargeoff_within_12_mths</th>\n",
       "      <th>delinq_2yrs</th>\n",
       "      <th>delinq_amnt</th>\n",
       "      <th>dti</th>\n",
       "      <th>emp_length</th>\n",
       "      <th>emp_title</th>\n",
       "      <th>fico_range_high</th>\n",
       "      <th>fico_range_low</th>\n",
       "      <th>sub_grade</th>\n",
       "      <th>home_ownership</th>\n",
       "      <th>il_util</th>\n",
       "      <th>int_rate</th>\n",
       "      <th>last_fico_range_high</th>\n",
       "      <th>last_fico_range_low</th>\n",
       "      <th>num_accts_ever_120_pd</th>\n",
       "      <th>num_actv_rev_tl</th>\n",
       "      <th>num_sats</th>\n",
       "      <th>num_tl_120dpd_2m</th>\n",
       "      <th>num_tl_30dpd</th>\n",
       "      <th>num_tl_90g_dpd_24m</th>\n",
       "      <th>open_acc</th>\n",
       "      <th>hardship_flag</th>\n",
       "      <th>open_act_il</th>\n",
       "    </tr>\n",
       "  </thead>\n",
       "  <tbody>\n",
       "    <tr>\n",
       "      <th>0</th>\n",
       "      <td>130910225</td>\n",
       "      <td>Fully Paid</td>\n",
       "      <td>0</td>\n",
       "      <td>TX</td>\n",
       "      <td>40000.0</td>\n",
       "      <td>10977.0</td>\n",
       "      <td>50.0</td>\n",
       "      <td>0</td>\n",
       "      <td>0</td>\n",
       "      <td>0</td>\n",
       "      <td>20.25</td>\n",
       "      <td>&lt; 1 year</td>\n",
       "      <td>Parole</td>\n",
       "      <td>699</td>\n",
       "      <td>695</td>\n",
       "      <td>B5</td>\n",
       "      <td>MORTGAGE</td>\n",
       "      <td>102.0</td>\n",
       "      <td>11.98%</td>\n",
       "      <td>649</td>\n",
       "      <td>645</td>\n",
       "      <td>3</td>\n",
       "      <td>2</td>\n",
       "      <td>13</td>\n",
       "      <td>0.0</td>\n",
       "      <td>0</td>\n",
       "      <td>0</td>\n",
       "      <td>13</td>\n",
       "      <td>N</td>\n",
       "      <td>6</td>\n",
       "    </tr>\n",
       "    <tr>\n",
       "      <th>1</th>\n",
       "      <td>130942737</td>\n",
       "      <td>Fully Paid</td>\n",
       "      <td>0</td>\n",
       "      <td>NY</td>\n",
       "      <td>85000.0</td>\n",
       "      <td>8551.0</td>\n",
       "      <td>38.4</td>\n",
       "      <td>0</td>\n",
       "      <td>1</td>\n",
       "      <td>0</td>\n",
       "      <td>15.76</td>\n",
       "      <td>10+ years</td>\n",
       "      <td>Machine operator</td>\n",
       "      <td>669</td>\n",
       "      <td>665</td>\n",
       "      <td>D4</td>\n",
       "      <td>OWN</td>\n",
       "      <td>NaN</td>\n",
       "      <td>20.39%</td>\n",
       "      <td>654</td>\n",
       "      <td>650</td>\n",
       "      <td>0</td>\n",
       "      <td>7</td>\n",
       "      <td>15</td>\n",
       "      <td>0.0</td>\n",
       "      <td>0</td>\n",
       "      <td>0</td>\n",
       "      <td>15</td>\n",
       "      <td>N</td>\n",
       "      <td>1</td>\n",
       "    </tr>\n",
       "    <tr>\n",
       "      <th>2</th>\n",
       "      <td>130951046</td>\n",
       "      <td>Fully Paid</td>\n",
       "      <td>0</td>\n",
       "      <td>NY</td>\n",
       "      <td>150000.0</td>\n",
       "      <td>2603.0</td>\n",
       "      <td>9.9</td>\n",
       "      <td>0</td>\n",
       "      <td>0</td>\n",
       "      <td>0</td>\n",
       "      <td>4.09</td>\n",
       "      <td>10+ years</td>\n",
       "      <td>Private Mortgage Banker</td>\n",
       "      <td>734</td>\n",
       "      <td>730</td>\n",
       "      <td>B1</td>\n",
       "      <td>MORTGAGE</td>\n",
       "      <td>41.0</td>\n",
       "      <td>9.43%</td>\n",
       "      <td>779</td>\n",
       "      <td>775</td>\n",
       "      <td>0</td>\n",
       "      <td>2</td>\n",
       "      <td>6</td>\n",
       "      <td>0.0</td>\n",
       "      <td>0</td>\n",
       "      <td>0</td>\n",
       "      <td>6</td>\n",
       "      <td>N</td>\n",
       "      <td>1</td>\n",
       "    </tr>\n",
       "    <tr>\n",
       "      <th>3</th>\n",
       "      <td>130967561</td>\n",
       "      <td>Fully Paid</td>\n",
       "      <td>0</td>\n",
       "      <td>NC</td>\n",
       "      <td>103000.0</td>\n",
       "      <td>6373.0</td>\n",
       "      <td>26.5</td>\n",
       "      <td>0</td>\n",
       "      <td>0</td>\n",
       "      <td>0</td>\n",
       "      <td>30.76</td>\n",
       "      <td>6 years</td>\n",
       "      <td>Corporate Ergonomist</td>\n",
       "      <td>724</td>\n",
       "      <td>720</td>\n",
       "      <td>B4</td>\n",
       "      <td>MORTGAGE</td>\n",
       "      <td>91.0</td>\n",
       "      <td>10.90%</td>\n",
       "      <td>789</td>\n",
       "      <td>785</td>\n",
       "      <td>1</td>\n",
       "      <td>4</td>\n",
       "      <td>12</td>\n",
       "      <td>0.0</td>\n",
       "      <td>0</td>\n",
       "      <td>0</td>\n",
       "      <td>12</td>\n",
       "      <td>N</td>\n",
       "      <td>3</td>\n",
       "    </tr>\n",
       "    <tr>\n",
       "      <th>4</th>\n",
       "      <td>130965526</td>\n",
       "      <td>Charged Off</td>\n",
       "      <td>0</td>\n",
       "      <td>NY</td>\n",
       "      <td>94000.0</td>\n",
       "      <td>17568.0</td>\n",
       "      <td>33.1</td>\n",
       "      <td>0</td>\n",
       "      <td>0</td>\n",
       "      <td>0</td>\n",
       "      <td>14.26</td>\n",
       "      <td>7 years</td>\n",
       "      <td>Sales consultant</td>\n",
       "      <td>744</td>\n",
       "      <td>740</td>\n",
       "      <td>C5</td>\n",
       "      <td>MORTGAGE</td>\n",
       "      <td>59.0</td>\n",
       "      <td>16.01%</td>\n",
       "      <td>564</td>\n",
       "      <td>560</td>\n",
       "      <td>0</td>\n",
       "      <td>3</td>\n",
       "      <td>13</td>\n",
       "      <td>0.0</td>\n",
       "      <td>0</td>\n",
       "      <td>0</td>\n",
       "      <td>13</td>\n",
       "      <td>N</td>\n",
       "      <td>3</td>\n",
       "    </tr>\n",
       "  </tbody>\n",
       "</table>\n",
       "</div>"
      ],
      "text/plain": [
       "          id  loan_status  acc_now_delinq addr_state  annual_inc  avg_cur_bal  \\\n",
       "0  130910225   Fully Paid               0         TX     40000.0      10977.0   \n",
       "1  130942737   Fully Paid               0         NY     85000.0       8551.0   \n",
       "2  130951046   Fully Paid               0         NY    150000.0       2603.0   \n",
       "3  130967561   Fully Paid               0         NC    103000.0       6373.0   \n",
       "4  130965526  Charged Off               0         NY     94000.0      17568.0   \n",
       "\n",
       "   bc_util  chargeoff_within_12_mths  delinq_2yrs  delinq_amnt    dti  \\\n",
       "0     50.0                         0            0            0  20.25   \n",
       "1     38.4                         0            1            0  15.76   \n",
       "2      9.9                         0            0            0   4.09   \n",
       "3     26.5                         0            0            0  30.76   \n",
       "4     33.1                         0            0            0  14.26   \n",
       "\n",
       "  emp_length                emp_title  fico_range_high  fico_range_low  \\\n",
       "0   < 1 year                   Parole              699             695   \n",
       "1  10+ years         Machine operator              669             665   \n",
       "2  10+ years  Private Mortgage Banker              734             730   \n",
       "3    6 years     Corporate Ergonomist              724             720   \n",
       "4    7 years        Sales consultant               744             740   \n",
       "\n",
       "  sub_grade home_ownership  il_util int_rate  last_fico_range_high  \\\n",
       "0        B5       MORTGAGE    102.0   11.98%                   649   \n",
       "1        D4            OWN      NaN   20.39%                   654   \n",
       "2        B1       MORTGAGE     41.0    9.43%                   779   \n",
       "3        B4       MORTGAGE     91.0   10.90%                   789   \n",
       "4        C5       MORTGAGE     59.0   16.01%                   564   \n",
       "\n",
       "   last_fico_range_low  num_accts_ever_120_pd  num_actv_rev_tl  num_sats  \\\n",
       "0                  645                      3                2        13   \n",
       "1                  650                      0                7        15   \n",
       "2                  775                      0                2         6   \n",
       "3                  785                      1                4        12   \n",
       "4                  560                      0                3        13   \n",
       "\n",
       "   num_tl_120dpd_2m  num_tl_30dpd  num_tl_90g_dpd_24m  open_acc hardship_flag  \\\n",
       "0               0.0             0                   0        13             N   \n",
       "1               0.0             0                   0        15             N   \n",
       "2               0.0             0                   0         6             N   \n",
       "3               0.0             0                   0        12             N   \n",
       "4               0.0             0                   0        13             N   \n",
       "\n",
       "   open_act_il  \n",
       "0            6  \n",
       "1            1  \n",
       "2            1  \n",
       "3            3  \n",
       "4            3  "
      ]
     },
     "execution_count": 63,
     "metadata": {},
     "output_type": "execute_result"
    }
   ],
   "source": [
    "df.head()"
   ]
  },
  {
   "cell_type": "markdown",
   "metadata": {},
   "source": [
    "### 进一步处理和可视化"
   ]
  },
  {
   "cell_type": "code",
   "execution_count": 123,
   "metadata": {},
   "outputs": [],
   "source": [
    "#画boxPlot函数\n",
    "def plotBox(col_name, full_name):\n",
    "    f, (ax1, ax2) = plt.subplots(nrows=1, ncols=2, figsize=(12,3), dpi=90)\n",
    "    sns.distplot(df.loc[df[col_name].notnull(), col_name], kde=False, ax=ax1)\n",
    "    ax1.set_xlabel(full_name)\n",
    "    ax1.set_ylabel('Count')\n",
    "    ax1.set_title(full_name)\n",
    "    \n",
    "    sns.boxplot(x=col_name, y='loan_status', data=df, ax=ax2)\n",
    "    ax2.set_ylabel('')\n",
    "    ax2.set_title(full_name + ' by Loan Status')\n",
    "\n",
    "    plt.tight_layout()"
   ]
  },
  {
   "cell_type": "code",
   "execution_count": 124,
   "metadata": {},
   "outputs": [],
   "source": [
    "#画barPlot函数\n",
    "def plotBar(col_name, full_name):\n",
    "    f, (ax1, ax2) = plt.subplots(nrows=1, ncols=2, figsize=(12,3), dpi=90)\n",
    "    charge_off_rates = df.groupby(col_name)['loan_status'].value_counts(normalize=True).loc[:,'Charged Off']\n",
    "#         print(df.groupby(col_name)['loan_status'].value_counts(normalize=True))\n",
    "    sns.barplot(x=charge_off_rates.index, y=charge_off_rates.values, color='#5975A4', saturation=1, ax=ax1)\n",
    "    ax1.set_ylabel('Fraction of Loans Charged-off')\n",
    "    ax1.set_title('Charge-off Rate by ' + full_name)\n",
    "    ax1.set_xlabel(full_name)\n",
    "    \n",
    "    fully_rates = df.groupby('sub_grade')['loan_status'].value_counts(normalize=True).loc[:,'Fully Paid']\n",
    "    sns.barplot(x=fully_rates.index, y=fully_rates.values, color='#5975A4', saturation=1, ax=ax2)\n",
    "    ax2.set_ylabel('Fraction of Loans Fully-paid')\n",
    "    ax2.set_title('Fully-paid Rate by subgrade' )\n",
    "    ax2.set_xlabel('Subgrade')    \n",
    "    plt.tight_layout()\n",
    "    "
   ]
  },
  {
   "cell_type": "code",
   "execution_count": 125,
   "metadata": {},
   "outputs": [],
   "source": [
    "#画countPlot函数\n",
    "def plotCount(col_name,full_name):\n",
    "    f,ax=plt.subplots(figsize=(12,3),dpi=90)\n",
    "    sns.countplot(df[col_name], order=sorted(df[col_name].unique()), color='#5975A4', saturation=1, ax=ax)\n",
    "    ax.set_xlabel(full_name)\n",
    "    ax.set_ylabel('Count')\n",
    "    ax.set_title(full_name)"
   ]
  },
  {
   "cell_type": "markdown",
   "metadata": {},
   "source": [
    "### int_rate"
   ]
  },
  {
   "cell_type": "code",
   "execution_count": 64,
   "metadata": {},
   "outputs": [
    {
     "name": "stderr",
     "output_type": "stream",
     "text": [
      "E:\\Anaconda\\lib\\site-packages\\ipykernel_launcher.py:2: SettingWithCopyWarning: \n",
      "A value is trying to be set on a copy of a slice from a DataFrame.\n",
      "Try using .loc[row_indexer,col_indexer] = value instead\n",
      "\n",
      "See the caveats in the documentation: http://pandas.pydata.org/pandas-docs/stable/indexing.html#indexing-view-versus-copy\n",
      "  \n"
     ]
    },
    {
     "data": {
      "text/html": [
       "<div>\n",
       "<style scoped>\n",
       "    .dataframe tbody tr th:only-of-type {\n",
       "        vertical-align: middle;\n",
       "    }\n",
       "\n",
       "    .dataframe tbody tr th {\n",
       "        vertical-align: top;\n",
       "    }\n",
       "\n",
       "    .dataframe thead th {\n",
       "        text-align: right;\n",
       "    }\n",
       "</style>\n",
       "<table border=\"1\" class=\"dataframe\">\n",
       "  <thead>\n",
       "    <tr style=\"text-align: right;\">\n",
       "      <th></th>\n",
       "      <th>id</th>\n",
       "      <th>loan_status</th>\n",
       "      <th>acc_now_delinq</th>\n",
       "      <th>addr_state</th>\n",
       "      <th>annual_inc</th>\n",
       "      <th>avg_cur_bal</th>\n",
       "      <th>bc_util</th>\n",
       "      <th>chargeoff_within_12_mths</th>\n",
       "      <th>delinq_2yrs</th>\n",
       "      <th>delinq_amnt</th>\n",
       "      <th>dti</th>\n",
       "      <th>emp_length</th>\n",
       "      <th>emp_title</th>\n",
       "      <th>fico_range_high</th>\n",
       "      <th>fico_range_low</th>\n",
       "      <th>sub_grade</th>\n",
       "      <th>home_ownership</th>\n",
       "      <th>il_util</th>\n",
       "      <th>int_rate</th>\n",
       "      <th>last_fico_range_high</th>\n",
       "      <th>last_fico_range_low</th>\n",
       "      <th>num_accts_ever_120_pd</th>\n",
       "      <th>num_actv_rev_tl</th>\n",
       "      <th>num_sats</th>\n",
       "      <th>num_tl_120dpd_2m</th>\n",
       "      <th>num_tl_30dpd</th>\n",
       "      <th>num_tl_90g_dpd_24m</th>\n",
       "      <th>open_acc</th>\n",
       "      <th>hardship_flag</th>\n",
       "      <th>open_act_il</th>\n",
       "    </tr>\n",
       "  </thead>\n",
       "  <tbody>\n",
       "    <tr>\n",
       "      <th>0</th>\n",
       "      <td>130910225</td>\n",
       "      <td>Fully Paid</td>\n",
       "      <td>0</td>\n",
       "      <td>TX</td>\n",
       "      <td>40000.0</td>\n",
       "      <td>10977.0</td>\n",
       "      <td>50.0</td>\n",
       "      <td>0</td>\n",
       "      <td>0</td>\n",
       "      <td>0</td>\n",
       "      <td>20.25</td>\n",
       "      <td>&lt; 1 year</td>\n",
       "      <td>Parole</td>\n",
       "      <td>699</td>\n",
       "      <td>695</td>\n",
       "      <td>B5</td>\n",
       "      <td>MORTGAGE</td>\n",
       "      <td>102.0</td>\n",
       "      <td>0.1198</td>\n",
       "      <td>649</td>\n",
       "      <td>645</td>\n",
       "      <td>3</td>\n",
       "      <td>2</td>\n",
       "      <td>13</td>\n",
       "      <td>0.0</td>\n",
       "      <td>0</td>\n",
       "      <td>0</td>\n",
       "      <td>13</td>\n",
       "      <td>N</td>\n",
       "      <td>6</td>\n",
       "    </tr>\n",
       "    <tr>\n",
       "      <th>1</th>\n",
       "      <td>130942737</td>\n",
       "      <td>Fully Paid</td>\n",
       "      <td>0</td>\n",
       "      <td>NY</td>\n",
       "      <td>85000.0</td>\n",
       "      <td>8551.0</td>\n",
       "      <td>38.4</td>\n",
       "      <td>0</td>\n",
       "      <td>1</td>\n",
       "      <td>0</td>\n",
       "      <td>15.76</td>\n",
       "      <td>10+ years</td>\n",
       "      <td>Machine operator</td>\n",
       "      <td>669</td>\n",
       "      <td>665</td>\n",
       "      <td>D4</td>\n",
       "      <td>OWN</td>\n",
       "      <td>NaN</td>\n",
       "      <td>0.2039</td>\n",
       "      <td>654</td>\n",
       "      <td>650</td>\n",
       "      <td>0</td>\n",
       "      <td>7</td>\n",
       "      <td>15</td>\n",
       "      <td>0.0</td>\n",
       "      <td>0</td>\n",
       "      <td>0</td>\n",
       "      <td>15</td>\n",
       "      <td>N</td>\n",
       "      <td>1</td>\n",
       "    </tr>\n",
       "    <tr>\n",
       "      <th>2</th>\n",
       "      <td>130951046</td>\n",
       "      <td>Fully Paid</td>\n",
       "      <td>0</td>\n",
       "      <td>NY</td>\n",
       "      <td>150000.0</td>\n",
       "      <td>2603.0</td>\n",
       "      <td>9.9</td>\n",
       "      <td>0</td>\n",
       "      <td>0</td>\n",
       "      <td>0</td>\n",
       "      <td>4.09</td>\n",
       "      <td>10+ years</td>\n",
       "      <td>Private Mortgage Banker</td>\n",
       "      <td>734</td>\n",
       "      <td>730</td>\n",
       "      <td>B1</td>\n",
       "      <td>MORTGAGE</td>\n",
       "      <td>41.0</td>\n",
       "      <td>0.0943</td>\n",
       "      <td>779</td>\n",
       "      <td>775</td>\n",
       "      <td>0</td>\n",
       "      <td>2</td>\n",
       "      <td>6</td>\n",
       "      <td>0.0</td>\n",
       "      <td>0</td>\n",
       "      <td>0</td>\n",
       "      <td>6</td>\n",
       "      <td>N</td>\n",
       "      <td>1</td>\n",
       "    </tr>\n",
       "    <tr>\n",
       "      <th>3</th>\n",
       "      <td>130967561</td>\n",
       "      <td>Fully Paid</td>\n",
       "      <td>0</td>\n",
       "      <td>NC</td>\n",
       "      <td>103000.0</td>\n",
       "      <td>6373.0</td>\n",
       "      <td>26.5</td>\n",
       "      <td>0</td>\n",
       "      <td>0</td>\n",
       "      <td>0</td>\n",
       "      <td>30.76</td>\n",
       "      <td>6 years</td>\n",
       "      <td>Corporate Ergonomist</td>\n",
       "      <td>724</td>\n",
       "      <td>720</td>\n",
       "      <td>B4</td>\n",
       "      <td>MORTGAGE</td>\n",
       "      <td>91.0</td>\n",
       "      <td>0.1090</td>\n",
       "      <td>789</td>\n",
       "      <td>785</td>\n",
       "      <td>1</td>\n",
       "      <td>4</td>\n",
       "      <td>12</td>\n",
       "      <td>0.0</td>\n",
       "      <td>0</td>\n",
       "      <td>0</td>\n",
       "      <td>12</td>\n",
       "      <td>N</td>\n",
       "      <td>3</td>\n",
       "    </tr>\n",
       "    <tr>\n",
       "      <th>4</th>\n",
       "      <td>130965526</td>\n",
       "      <td>Charged Off</td>\n",
       "      <td>0</td>\n",
       "      <td>NY</td>\n",
       "      <td>94000.0</td>\n",
       "      <td>17568.0</td>\n",
       "      <td>33.1</td>\n",
       "      <td>0</td>\n",
       "      <td>0</td>\n",
       "      <td>0</td>\n",
       "      <td>14.26</td>\n",
       "      <td>7 years</td>\n",
       "      <td>Sales consultant</td>\n",
       "      <td>744</td>\n",
       "      <td>740</td>\n",
       "      <td>C5</td>\n",
       "      <td>MORTGAGE</td>\n",
       "      <td>59.0</td>\n",
       "      <td>0.1601</td>\n",
       "      <td>564</td>\n",
       "      <td>560</td>\n",
       "      <td>0</td>\n",
       "      <td>3</td>\n",
       "      <td>13</td>\n",
       "      <td>0.0</td>\n",
       "      <td>0</td>\n",
       "      <td>0</td>\n",
       "      <td>13</td>\n",
       "      <td>N</td>\n",
       "      <td>3</td>\n",
       "    </tr>\n",
       "  </tbody>\n",
       "</table>\n",
       "</div>"
      ],
      "text/plain": [
       "          id  loan_status  acc_now_delinq addr_state  annual_inc  avg_cur_bal  \\\n",
       "0  130910225   Fully Paid               0         TX     40000.0      10977.0   \n",
       "1  130942737   Fully Paid               0         NY     85000.0       8551.0   \n",
       "2  130951046   Fully Paid               0         NY    150000.0       2603.0   \n",
       "3  130967561   Fully Paid               0         NC    103000.0       6373.0   \n",
       "4  130965526  Charged Off               0         NY     94000.0      17568.0   \n",
       "\n",
       "   bc_util  chargeoff_within_12_mths  delinq_2yrs  delinq_amnt    dti  \\\n",
       "0     50.0                         0            0            0  20.25   \n",
       "1     38.4                         0            1            0  15.76   \n",
       "2      9.9                         0            0            0   4.09   \n",
       "3     26.5                         0            0            0  30.76   \n",
       "4     33.1                         0            0            0  14.26   \n",
       "\n",
       "  emp_length                emp_title  fico_range_high  fico_range_low  \\\n",
       "0   < 1 year                   Parole              699             695   \n",
       "1  10+ years         Machine operator              669             665   \n",
       "2  10+ years  Private Mortgage Banker              734             730   \n",
       "3    6 years     Corporate Ergonomist              724             720   \n",
       "4    7 years        Sales consultant               744             740   \n",
       "\n",
       "  sub_grade home_ownership  il_util  int_rate  last_fico_range_high  \\\n",
       "0        B5       MORTGAGE    102.0    0.1198                   649   \n",
       "1        D4            OWN      NaN    0.2039                   654   \n",
       "2        B1       MORTGAGE     41.0    0.0943                   779   \n",
       "3        B4       MORTGAGE     91.0    0.1090                   789   \n",
       "4        C5       MORTGAGE     59.0    0.1601                   564   \n",
       "\n",
       "   last_fico_range_low  num_accts_ever_120_pd  num_actv_rev_tl  num_sats  \\\n",
       "0                  645                      3                2        13   \n",
       "1                  650                      0                7        15   \n",
       "2                  775                      0                2         6   \n",
       "3                  785                      1                4        12   \n",
       "4                  560                      0                3        13   \n",
       "\n",
       "   num_tl_120dpd_2m  num_tl_30dpd  num_tl_90g_dpd_24m  open_acc hardship_flag  \\\n",
       "0               0.0             0                   0        13             N   \n",
       "1               0.0             0                   0        15             N   \n",
       "2               0.0             0                   0         6             N   \n",
       "3               0.0             0                   0        12             N   \n",
       "4               0.0             0                   0        13             N   \n",
       "\n",
       "   open_act_il  \n",
       "0            6  \n",
       "1            1  \n",
       "2            1  \n",
       "3            3  \n",
       "4            3  "
      ]
     },
     "execution_count": 64,
     "metadata": {},
     "output_type": "execute_result"
    }
   ],
   "source": [
    "# 将 int_rate列由百分数格式转化为浮点数格式\n",
    "df['int_rate'] = df['int_rate'].apply(lambda x: np.nan if x in ['-'] else x[:-1]).astype(float)/100\n",
    "df.head()"
   ]
  },
  {
   "cell_type": "code",
   "execution_count": 86,
   "metadata": {},
   "outputs": [
    {
     "name": "stderr",
     "output_type": "stream",
     "text": [
      "E:\\Anaconda\\lib\\site-packages\\scipy\\stats\\stats.py:1713: FutureWarning: Using a non-tuple sequence for multidimensional indexing is deprecated; use `arr[tuple(seq)]` instead of `arr[seq]`. In the future this will be interpreted as an array index, `arr[np.array(seq)]`, which will result either in an error or a different result.\n",
      "  return np.add.reduce(sorted[indexer] * weights, axis=axis) / sumval\n"
     ]
    },
    {
     "data": {
      "image/png": "[encoded data removed]",
      "text/plain": [
       "<Figure size 1080x270 with 2 Axes>"
      ]
     },
     "metadata": {
      "needs_background": "light"
     },
     "output_type": "display_data"
    }
   ],
   "source": [
    "plotBox('int_rate', 'Interest Rate')"
   ]
  },
  {
   "cell_type": "code",
   "execution_count": 67,
   "metadata": {},
   "outputs": [
    {
     "data": {
      "text/html": [
       "<div>\n",
       "<style scoped>\n",
       "    .dataframe tbody tr th:only-of-type {\n",
       "        vertical-align: middle;\n",
       "    }\n",
       "\n",
       "    .dataframe tbody tr th {\n",
       "        vertical-align: top;\n",
       "    }\n",
       "\n",
       "    .dataframe thead th {\n",
       "        text-align: right;\n",
       "    }\n",
       "</style>\n",
       "<table border=\"1\" class=\"dataframe\">\n",
       "  <thead>\n",
       "    <tr style=\"text-align: right;\">\n",
       "      <th></th>\n",
       "      <th>count</th>\n",
       "      <th>mean</th>\n",
       "      <th>std</th>\n",
       "      <th>min</th>\n",
       "      <th>25%</th>\n",
       "      <th>50%</th>\n",
       "      <th>75%</th>\n",
       "      <th>max</th>\n",
       "    </tr>\n",
       "    <tr>\n",
       "      <th>loan_status</th>\n",
       "      <th></th>\n",
       "      <th></th>\n",
       "      <th></th>\n",
       "      <th></th>\n",
       "      <th></th>\n",
       "      <th></th>\n",
       "      <th></th>\n",
       "      <th></th>\n",
       "    </tr>\n",
       "  </thead>\n",
       "  <tbody>\n",
       "    <tr>\n",
       "      <th>Charged Off</th>\n",
       "      <td>39170.0</td>\n",
       "      <td>0.158321</td>\n",
       "      <td>0.055099</td>\n",
       "      <td>0.0531</td>\n",
       "      <td>0.1180</td>\n",
       "      <td>0.1504</td>\n",
       "      <td>0.1942</td>\n",
       "      <td>0.3099</td>\n",
       "    </tr>\n",
       "    <tr>\n",
       "      <th>Fully Paid</th>\n",
       "      <td>128282.0</td>\n",
       "      <td>0.124621</td>\n",
       "      <td>0.051388</td>\n",
       "      <td>0.0531</td>\n",
       "      <td>0.0808</td>\n",
       "      <td>0.1155</td>\n",
       "      <td>0.1505</td>\n",
       "      <td>0.3099</td>\n",
       "    </tr>\n",
       "  </tbody>\n",
       "</table>\n",
       "</div>"
      ],
      "text/plain": [
       "                count      mean       std     min     25%     50%     75%  \\\n",
       "loan_status                                                                 \n",
       "Charged Off   39170.0  0.158321  0.055099  0.0531  0.1180  0.1504  0.1942   \n",
       "Fully Paid   128282.0  0.124621  0.051388  0.0531  0.0808  0.1155  0.1505   \n",
       "\n",
       "                max  \n",
       "loan_status          \n",
       "Charged Off  0.3099  \n",
       "Fully Paid   0.3099  "
      ]
     },
     "execution_count": 67,
     "metadata": {},
     "output_type": "execute_result"
    }
   ],
   "source": [
    "df.groupby('loan_status')['int_rate'].describe()"
   ]
  },
  {
   "cell_type": "markdown",
   "metadata": {},
   "source": [
    "### sub_grade(由grade细分而成)"
   ]
  },
  {
   "cell_type": "code",
   "execution_count": 127,
   "metadata": {},
   "outputs": [
    {
     "name": "stdout",
     "output_type": "stream",
     "text": [
      "['A1', 'A2', 'A3', 'A4', 'A5', 'B1', 'B2', 'B3', 'B4', 'B5', 'C1', 'C2', 'C3', 'C4', 'C5', 'D1', 'D2', 'D3', 'D4', 'D5', 'E1', 'E2', 'E3', 'E4', 'E5', 'F1', 'F2', 'F3', 'F4', 'F5', 'G1', 'G2', 'G3', 'G4', 'G5']\n"
     ]
    }
   ],
   "source": [
    "print(sorted(df['sub_grade'].unique()))"
   ]
  },
  {
   "cell_type": "code",
   "execution_count": 128,
   "metadata": {},
   "outputs": [
    {
     "data": {
      "image/png": "[encoded data removed]",
      "text/plain": [
       "<Figure size 1080x270 with 2 Axes>"
      ]
     },
     "metadata": {
      "needs_background": "light"
     },
     "output_type": "display_data"
    }
   ],
   "source": [
    "plotBar('sub_grade', 'Subgrade')"
   ]
  },
  {
   "cell_type": "code",
   "execution_count": 129,
   "metadata": {},
   "outputs": [
    {
     "data": {
      "image/png": "[encoded data removed]",
      "text/plain": [
       "<Figure size 1080x270 with 1 Axes>"
      ]
     },
     "metadata": {
      "needs_background": "light"
     },
     "output_type": "display_data"
    }
   ],
   "source": [
    "plotCount('sub_grade','Subgrade')"
   ]
  },
  {
   "cell_type": "code",
   "execution_count": 73,
   "metadata": {},
   "outputs": [
    {
     "data": {
      "text/plain": [
       "Text(0.5,0,'Subgrade')"
      ]
     },
     "execution_count": 73,
     "metadata": {},
     "output_type": "execute_result"
    },
    {
     "data": {
      "image/png": "[encoded data removed]",
      "text/plain": [
       "<Figure size 1080x270 with 1 Axes>"
      ]
     },
     "metadata": {
      "needs_background": "light"
     },
     "output_type": "display_data"
    }
   ],
   "source": [
    "f, (ax2) = plt.subplots(nrows=1, ncols=1, figsize=(12,3), dpi=90)\n",
    "fully_rates = df.groupby('sub_grade')['loan_status'].value_counts(normalize=True).loc[:,'Fully Paid']\n",
    "sns.barplot(x=fully_rates.index, y=fully_rates.values, color='#5975A4', saturation=1, ax=ax2)\n",
    "ax2.set_ylabel('Fraction of Loans Fully-paid')\n",
    "ax2.set_title('Fully-paid Rate by subgrade' )\n",
    "ax2.set_xlabel('Subgrade')"
   ]
  },
  {
   "cell_type": "code",
   "execution_count": 74,
   "metadata": {},
   "outputs": [
    {
     "data": {
      "text/plain": [
       "count      150211\n",
       "unique      54427\n",
       "top       Manager\n",
       "freq         2916\n",
       "Name: emp_title, dtype: object"
      ]
     },
     "execution_count": 74,
     "metadata": {},
     "output_type": "execute_result"
    }
   ],
   "source": [
    "df['emp_title'].describe()    "
   ]
  },
  {
   "cell_type": "code",
   "execution_count": 76,
   "metadata": {},
   "outputs": [
    {
     "name": "stderr",
     "output_type": "stream",
     "text": [
      "E:\\Anaconda\\lib\\site-packages\\pandas\\core\\frame.py:3697: SettingWithCopyWarning: \n",
      "A value is trying to be set on a copy of a slice from a DataFrame\n",
      "\n",
      "See the caveats in the documentation: http://pandas.pydata.org/pandas-docs/stable/indexing.html#indexing-view-versus-copy\n",
      "  errors=errors)\n"
     ]
    }
   ],
   "source": [
    "df.drop(labels='emp_title', axis=1, inplace=True)"
   ]
  },
  {
   "cell_type": "code",
   "execution_count": 78,
   "metadata": {},
   "outputs": [
    {
     "data": {
      "text/html": [
       "<div>\n",
       "<style scoped>\n",
       "    .dataframe tbody tr th:only-of-type {\n",
       "        vertical-align: middle;\n",
       "    }\n",
       "\n",
       "    .dataframe tbody tr th {\n",
       "        vertical-align: top;\n",
       "    }\n",
       "\n",
       "    .dataframe thead th {\n",
       "        text-align: right;\n",
       "    }\n",
       "</style>\n",
       "<table border=\"1\" class=\"dataframe\">\n",
       "  <thead>\n",
       "    <tr style=\"text-align: right;\">\n",
       "      <th></th>\n",
       "      <th>id</th>\n",
       "      <th>loan_status</th>\n",
       "      <th>acc_now_delinq</th>\n",
       "      <th>addr_state</th>\n",
       "      <th>annual_inc</th>\n",
       "      <th>avg_cur_bal</th>\n",
       "      <th>bc_util</th>\n",
       "      <th>chargeoff_within_12_mths</th>\n",
       "      <th>delinq_2yrs</th>\n",
       "      <th>delinq_amnt</th>\n",
       "      <th>dti</th>\n",
       "      <th>emp_length</th>\n",
       "      <th>fico_range_high</th>\n",
       "      <th>fico_range_low</th>\n",
       "      <th>sub_grade</th>\n",
       "      <th>home_ownership</th>\n",
       "      <th>il_util</th>\n",
       "      <th>int_rate</th>\n",
       "      <th>last_fico_range_high</th>\n",
       "      <th>last_fico_range_low</th>\n",
       "      <th>num_accts_ever_120_pd</th>\n",
       "      <th>num_actv_rev_tl</th>\n",
       "      <th>num_sats</th>\n",
       "      <th>num_tl_120dpd_2m</th>\n",
       "      <th>num_tl_30dpd</th>\n",
       "      <th>num_tl_90g_dpd_24m</th>\n",
       "      <th>open_acc</th>\n",
       "      <th>hardship_flag</th>\n",
       "      <th>open_act_il</th>\n",
       "    </tr>\n",
       "  </thead>\n",
       "  <tbody>\n",
       "    <tr>\n",
       "      <th>0</th>\n",
       "      <td>130910225</td>\n",
       "      <td>Fully Paid</td>\n",
       "      <td>0</td>\n",
       "      <td>TX</td>\n",
       "      <td>40000.0</td>\n",
       "      <td>10977.0</td>\n",
       "      <td>50.0</td>\n",
       "      <td>0</td>\n",
       "      <td>0</td>\n",
       "      <td>0</td>\n",
       "      <td>20.25</td>\n",
       "      <td>&lt; 1 year</td>\n",
       "      <td>699</td>\n",
       "      <td>695</td>\n",
       "      <td>B5</td>\n",
       "      <td>MORTGAGE</td>\n",
       "      <td>102.0</td>\n",
       "      <td>0.1198</td>\n",
       "      <td>649</td>\n",
       "      <td>645</td>\n",
       "      <td>3</td>\n",
       "      <td>2</td>\n",
       "      <td>13</td>\n",
       "      <td>0.0</td>\n",
       "      <td>0</td>\n",
       "      <td>0</td>\n",
       "      <td>13</td>\n",
       "      <td>N</td>\n",
       "      <td>6</td>\n",
       "    </tr>\n",
       "    <tr>\n",
       "      <th>1</th>\n",
       "      <td>130942737</td>\n",
       "      <td>Fully Paid</td>\n",
       "      <td>0</td>\n",
       "      <td>NY</td>\n",
       "      <td>85000.0</td>\n",
       "      <td>8551.0</td>\n",
       "      <td>38.4</td>\n",
       "      <td>0</td>\n",
       "      <td>1</td>\n",
       "      <td>0</td>\n",
       "      <td>15.76</td>\n",
       "      <td>10+ years</td>\n",
       "      <td>669</td>\n",
       "      <td>665</td>\n",
       "      <td>D4</td>\n",
       "      <td>OWN</td>\n",
       "      <td>NaN</td>\n",
       "      <td>0.2039</td>\n",
       "      <td>654</td>\n",
       "      <td>650</td>\n",
       "      <td>0</td>\n",
       "      <td>7</td>\n",
       "      <td>15</td>\n",
       "      <td>0.0</td>\n",
       "      <td>0</td>\n",
       "      <td>0</td>\n",
       "      <td>15</td>\n",
       "      <td>N</td>\n",
       "      <td>1</td>\n",
       "    </tr>\n",
       "    <tr>\n",
       "      <th>2</th>\n",
       "      <td>130951046</td>\n",
       "      <td>Fully Paid</td>\n",
       "      <td>0</td>\n",
       "      <td>NY</td>\n",
       "      <td>150000.0</td>\n",
       "      <td>2603.0</td>\n",
       "      <td>9.9</td>\n",
       "      <td>0</td>\n",
       "      <td>0</td>\n",
       "      <td>0</td>\n",
       "      <td>4.09</td>\n",
       "      <td>10+ years</td>\n",
       "      <td>734</td>\n",
       "      <td>730</td>\n",
       "      <td>B1</td>\n",
       "      <td>MORTGAGE</td>\n",
       "      <td>41.0</td>\n",
       "      <td>0.0943</td>\n",
       "      <td>779</td>\n",
       "      <td>775</td>\n",
       "      <td>0</td>\n",
       "      <td>2</td>\n",
       "      <td>6</td>\n",
       "      <td>0.0</td>\n",
       "      <td>0</td>\n",
       "      <td>0</td>\n",
       "      <td>6</td>\n",
       "      <td>N</td>\n",
       "      <td>1</td>\n",
       "    </tr>\n",
       "    <tr>\n",
       "      <th>3</th>\n",
       "      <td>130967561</td>\n",
       "      <td>Fully Paid</td>\n",
       "      <td>0</td>\n",
       "      <td>NC</td>\n",
       "      <td>103000.0</td>\n",
       "      <td>6373.0</td>\n",
       "      <td>26.5</td>\n",
       "      <td>0</td>\n",
       "      <td>0</td>\n",
       "      <td>0</td>\n",
       "      <td>30.76</td>\n",
       "      <td>6 years</td>\n",
       "      <td>724</td>\n",
       "      <td>720</td>\n",
       "      <td>B4</td>\n",
       "      <td>MORTGAGE</td>\n",
       "      <td>91.0</td>\n",
       "      <td>0.1090</td>\n",
       "      <td>789</td>\n",
       "      <td>785</td>\n",
       "      <td>1</td>\n",
       "      <td>4</td>\n",
       "      <td>12</td>\n",
       "      <td>0.0</td>\n",
       "      <td>0</td>\n",
       "      <td>0</td>\n",
       "      <td>12</td>\n",
       "      <td>N</td>\n",
       "      <td>3</td>\n",
       "    </tr>\n",
       "    <tr>\n",
       "      <th>4</th>\n",
       "      <td>130965526</td>\n",
       "      <td>Charged Off</td>\n",
       "      <td>0</td>\n",
       "      <td>NY</td>\n",
       "      <td>94000.0</td>\n",
       "      <td>17568.0</td>\n",
       "      <td>33.1</td>\n",
       "      <td>0</td>\n",
       "      <td>0</td>\n",
       "      <td>0</td>\n",
       "      <td>14.26</td>\n",
       "      <td>7 years</td>\n",
       "      <td>744</td>\n",
       "      <td>740</td>\n",
       "      <td>C5</td>\n",
       "      <td>MORTGAGE</td>\n",
       "      <td>59.0</td>\n",
       "      <td>0.1601</td>\n",
       "      <td>564</td>\n",
       "      <td>560</td>\n",
       "      <td>0</td>\n",
       "      <td>3</td>\n",
       "      <td>13</td>\n",
       "      <td>0.0</td>\n",
       "      <td>0</td>\n",
       "      <td>0</td>\n",
       "      <td>13</td>\n",
       "      <td>N</td>\n",
       "      <td>3</td>\n",
       "    </tr>\n",
       "  </tbody>\n",
       "</table>\n",
       "</div>"
      ],
      "text/plain": [
       "          id  loan_status  acc_now_delinq addr_state  annual_inc  avg_cur_bal  \\\n",
       "0  130910225   Fully Paid               0         TX     40000.0      10977.0   \n",
       "1  130942737   Fully Paid               0         NY     85000.0       8551.0   \n",
       "2  130951046   Fully Paid               0         NY    150000.0       2603.0   \n",
       "3  130967561   Fully Paid               0         NC    103000.0       6373.0   \n",
       "4  130965526  Charged Off               0         NY     94000.0      17568.0   \n",
       "\n",
       "   bc_util  chargeoff_within_12_mths  delinq_2yrs  delinq_amnt    dti  \\\n",
       "0     50.0                         0            0            0  20.25   \n",
       "1     38.4                         0            1            0  15.76   \n",
       "2      9.9                         0            0            0   4.09   \n",
       "3     26.5                         0            0            0  30.76   \n",
       "4     33.1                         0            0            0  14.26   \n",
       "\n",
       "  emp_length  fico_range_high  fico_range_low sub_grade home_ownership  \\\n",
       "0   < 1 year              699             695        B5       MORTGAGE   \n",
       "1  10+ years              669             665        D4            OWN   \n",
       "2  10+ years              734             730        B1       MORTGAGE   \n",
       "3    6 years              724             720        B4       MORTGAGE   \n",
       "4    7 years              744             740        C5       MORTGAGE   \n",
       "\n",
       "   il_util  int_rate  last_fico_range_high  last_fico_range_low  \\\n",
       "0    102.0    0.1198                   649                  645   \n",
       "1      NaN    0.2039                   654                  650   \n",
       "2     41.0    0.0943                   779                  775   \n",
       "3     91.0    0.1090                   789                  785   \n",
       "4     59.0    0.1601                   564                  560   \n",
       "\n",
       "   num_accts_ever_120_pd  num_actv_rev_tl  num_sats  num_tl_120dpd_2m  \\\n",
       "0                      3                2        13               0.0   \n",
       "1                      0                7        15               0.0   \n",
       "2                      0                2         6               0.0   \n",
       "3                      1                4        12               0.0   \n",
       "4                      0                3        13               0.0   \n",
       "\n",
       "   num_tl_30dpd  num_tl_90g_dpd_24m  open_acc hardship_flag  open_act_il  \n",
       "0             0                   0        13             N            6  \n",
       "1             0                   0        15             N            1  \n",
       "2             0                   0         6             N            1  \n",
       "3             0                   0        12             N            3  \n",
       "4             0                   0        13             N            3  "
      ]
     },
     "execution_count": 78,
     "metadata": {},
     "output_type": "execute_result"
    }
   ],
   "source": [
    "df.head()"
   ]
  },
  {
   "cell_type": "code",
   "execution_count": 80,
   "metadata": {},
   "outputs": [
    {
     "name": "stderr",
     "output_type": "stream",
     "text": [
      "E:\\Anaconda\\lib\\site-packages\\pandas\\core\\generic.py:5890: SettingWithCopyWarning: \n",
      "A value is trying to be set on a copy of a slice from a DataFrame\n",
      "\n",
      "See the caveats in the documentation: http://pandas.pydata.org/pandas-docs/stable/indexing.html#indexing-view-versus-copy\n",
      "  self._update_inplace(new_data)\n",
      "E:\\Anaconda\\lib\\site-packages\\ipykernel_launcher.py:11: SettingWithCopyWarning: \n",
      "A value is trying to be set on a copy of a slice from a DataFrame.\n",
      "Try using .loc[row_indexer,col_indexer] = value instead\n",
      "\n",
      "See the caveats in the documentation: http://pandas.pydata.org/pandas-docs/stable/indexing.html#indexing-view-versus-copy\n",
      "  # This is added back by InteractiveShellApp.init_path()\n"
     ]
    }
   ],
   "source": [
    "#将字符串年数转化为整型\n",
    "df['emp_length'].replace(to_replace='10+ years', value='10 years', inplace=True)\n",
    "df['emp_length'].replace('< 1 year', '0 years', inplace=True)\n",
    "\n",
    "def emp_length_to_int(s):\n",
    "    if pd.isnull(s):\n",
    "        return s\n",
    "    else:\n",
    "        return np.int8(s.split()[0])\n",
    "\n",
    "df['emp_length'] = df['emp_length'].apply(emp_length_to_int)"
   ]
  },
  {
   "cell_type": "code",
   "execution_count": 81,
   "metadata": {},
   "outputs": [
    {
     "data": {
      "image/png": "[encoded data removed]",
      "text/plain": [
       "<Figure size 1080x270 with 2 Axes>"
      ]
     },
     "metadata": {
      "needs_background": "light"
     },
     "output_type": "display_data"
    }
   ],
   "source": [
    "plot_var('emp_length', 'Employment Length', continuous=False)"
   ]
  },
  {
   "cell_type": "code",
   "execution_count": null,
   "metadata": {},
   "outputs": [],
   "source": []
  }
 ],
 "metadata": {
  "kernelspec": {
   "display_name": "Python 3",
   "language": "python",
   "name": "python3"
  },
  "language_info": {
   "codemirror_mode": {
    "name": "ipython",
    "version": 3
   },
   "file_extension": ".py",
   "mimetype": "text/x-python",
   "name": "python",
   "nbconvert_exporter": "python",
   "pygments_lexer": "ipython3",
   "version": "3.7.0"
  }
 },
 "nbformat": 4,
 "nbformat_minor": 2
}
